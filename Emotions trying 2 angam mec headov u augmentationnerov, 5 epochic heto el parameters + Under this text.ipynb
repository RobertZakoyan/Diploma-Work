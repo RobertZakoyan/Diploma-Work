{
 "cells": [
  {
   "cell_type": "code",
   "execution_count": null,
   "id": "c4561d76",
   "metadata": {},
   "outputs": [],
   "source": [
    "import pandas as pd\n",
    "import numpy as np\n",
    "\n",
    "import os\n",
    "import sys\n",
    "\n",
    "import librosa\n",
    "import librosa.display\n",
    "import seaborn as sns\n",
    "import matplotlib.pyplot as plt\n",
    "\n",
    "from sklearn.preprocessing import StandardScaler, OneHotEncoder\n",
    "from sklearn.metrics import confusion_matrix, classification_report\n",
    "from sklearn.model_selection import train_test_split\n",
    "\n",
    "import torch\n",
    "import torch.nn as nn\n",
    "import torch.nn.functional as F\n",
    "\n",
    "import torchaudio\n",
    "import torch.optim as optim\n",
    "from torch.utils.data import DataLoader, Dataset\n",
    "from transformers import ASTForAudioClassification, AutoProcessor\n",
    "from tqdm import tqdm\n",
    "from sklearn.metrics import f1_score\n",
    "from sklearn.utils.class_weight import compute_class_weight\n",
    "import json\n",
    "from datetime import datetime\n",
    "\n"
   ]
  },
  {
   "cell_type": "code",
   "execution_count": 4,
   "id": "35d5d7d3",
   "metadata": {},
   "outputs": [],
   "source": [
    "Ravdess = \"/mnt/c/Users/rubom/Desktop/Emotions DataSets/Ravdess/\"\n",
    "Crema   = \"/mnt/c/Users/rubom/Desktop/Emotions DataSets/Crema/AudioWAV/\"\n",
    "Tess    = \"/mnt/c/Users/rubom/Desktop/Emotions DataSets/Tess/TESS Toronto emotional speech set data/\"\n",
    "Savee   = \"/mnt/c/Users/rubom/Desktop/Emotions DataSets/Savee/ALL/\""
   ]
  },
  {
   "cell_type": "code",
   "execution_count": null,
   "id": "652d6128",
   "metadata": {},
   "outputs": [
    {
     "name": "stdout",
     "output_type": "stream",
     "text": [
      "  Emotions                                               Path\n",
      "0  neutral  /mnt/c/Users/rubom/Desktop/Emotions DataSets/R...\n",
      "1  neutral  /mnt/c/Users/rubom/Desktop/Emotions DataSets/R...\n",
      "2  neutral  /mnt/c/Users/rubom/Desktop/Emotions DataSets/R...\n",
      "3  neutral  /mnt/c/Users/rubom/Desktop/Emotions DataSets/R...\n",
      "4     calm  /mnt/c/Users/rubom/Desktop/Emotions DataSets/R...\n",
      "/mnt/c/Users/rubom/Desktop/Emotions DataSets/Ravdess/Actor_01/03-01-01-01-01-02-01.wav\n"
     ]
    }
   ],
   "source": [
    "ravdess_directory_list = [d for d in os.listdir(Ravdess) if d.startswith(\"Actor_\")]\n",
    "\n",
    "file_emotion = []\n",
    "file_path = []\n",
    "\n",
    "for dir in ravdess_directory_list:\n",
    "    actor_folder = os.path.join(Ravdess, dir)\n",
    "    \n",
    "    for file in os.listdir(actor_folder):\n",
    "        if not file.endswith('.wav'):\n",
    "            continue  \n",
    "        \n",
    "        part = file.split('.')[0].split('-')\n",
    "        \n",
    "        if len(part) != 7:\n",
    "            print(f\"⚠️ Skipping malformed file: {file}\")\n",
    "            continue\n",
    "        \n",
    "        try:\n",
    "            emotion_code = int(part[2])\n",
    "            file_emotion.append(emotion_code)\n",
    "            file_path.append(os.path.join(actor_folder, file))\n",
    "        except ValueError:\n",
    "            print(f\"❌ Couldn't parse emotion code in: {file}\")\n",
    "\n",
    "emotion_df = pd.DataFrame(file_emotion, columns=['Emotions'])\n",
    "path_df = pd.DataFrame(file_path, columns=['Path'])\n",
    "Ravdess_df = pd.concat([emotion_df, path_df], axis=1)\n",
    "\n",
    "\n",
    "emotion_labels = {\n",
    "    1: 'neutral',\n",
    "    2: 'calm',\n",
    "    3: 'happy',\n",
    "    4: 'sad',\n",
    "    5: 'angry',\n",
    "    6: 'fear',\n",
    "    7: 'disgust',\n",
    "    8: 'surprise'\n",
    "}\n",
    "Ravdess_df[\"Emotions\"] = Ravdess_df[\"Emotions\"].map(emotion_labels)\n",
    "\n",
    "print(Ravdess_df.head())\n",
    "print(Ravdess_df[\"Path\"].values[1])"
   ]
  },
  {
   "cell_type": "code",
   "execution_count": null,
   "id": "a913cea8",
   "metadata": {},
   "outputs": [
    {
     "name": "stdout",
     "output_type": "stream",
     "text": [
      "/mnt/c/Users/rubom/Desktop/Emotions DataSets/Crema/AudioWAV/1001_DFA_DIS_XX.wav\n"
     ]
    }
   ],
   "source": [
    "crema_directory_list = os.listdir(Crema)\n",
    "\n",
    "file_emotion = []\n",
    "file_path = []\n",
    "\n",
    "for file in crema_directory_list:\n",
    "\n",
    "    file_path.append(Crema + file)\n",
    "\n",
    "    part=file.split('_')\n",
    "    if part[2] == 'SAD':\n",
    "        file_emotion.append('sad')\n",
    "    elif part[2] == 'ANG':\n",
    "        file_emotion.append('angry')\n",
    "    elif part[2] == 'DIS':\n",
    "        file_emotion.append('disgust')\n",
    "    elif part[2] == 'FEA':\n",
    "        file_emotion.append('fear')\n",
    "    elif part[2] == 'HAP':\n",
    "        file_emotion.append('happy')\n",
    "    elif part[2] == 'NEU':\n",
    "        file_emotion.append('neutral')\n",
    "    else:\n",
    "        file_emotion.append('Unknown')\n",
    "        \n",
    "\n",
    "emotion_df = pd.DataFrame(file_emotion, columns=['Emotions'])\n",
    "\n",
    "path_df = pd.DataFrame(file_path, columns=['Path'])\n",
    "Crema_df = pd.concat([emotion_df, path_df], axis=1)\n",
    "Crema_df.head()\n",
    "print(Crema_df[\"Path\"].values[1])"
   ]
  },
  {
   "cell_type": "code",
   "execution_count": null,
   "id": "ed964004",
   "metadata": {},
   "outputs": [
    {
     "name": "stdout",
     "output_type": "stream",
     "text": [
      "/mnt/c/Users/rubom/Desktop/Emotions DataSets/Tess/TESS Toronto emotional speech set data/OAF_angry/OAF_bar_angry.wav\n"
     ]
    }
   ],
   "source": [
    "tess_directory_list = os.listdir(Tess)\n",
    "file_emotion = []\n",
    "file_path = []\n",
    "\n",
    "for dir in tess_directory_list:\n",
    "    directories = os.listdir(Tess + \"/\"+dir)\n",
    "    for file in directories:\n",
    "        part = file.split('.')[0]\n",
    "        part = part.split('_')[2]\n",
    "\n",
    "        if part=='ps':\n",
    "            file_emotion.append('surprise')\n",
    "        else:\n",
    "            file_emotion.append(part)\n",
    "        file_path.append(Tess + dir + '/' + file)\n",
    "        \n",
    "\n",
    "emotion_df = pd.DataFrame(file_emotion, columns=['Emotions'])\n",
    "\n",
    "path_df = pd.DataFrame(file_path, columns=['Path'])\n",
    "Tess_df = pd.concat([emotion_df, path_df], axis=1)\n",
    "Tess_df.head()\n",
    "print(Tess_df['Path'].values[1])"
   ]
  },
  {
   "cell_type": "code",
   "execution_count": null,
   "id": "720cdecb",
   "metadata": {},
   "outputs": [
    {
     "name": "stdout",
     "output_type": "stream",
     "text": [
      "/mnt/c/Users/rubom/Desktop/Emotions DataSets/Savee/ALL/DC_a02.wav\n"
     ]
    }
   ],
   "source": [
    "savee_directory_list = os.listdir(Savee)\n",
    "\n",
    "file_emotion = []\n",
    "file_path = []\n",
    "\n",
    "for file in savee_directory_list:\n",
    "    file_path.append(Savee + file)\n",
    "    part = file.split('_')[1]\n",
    "    ele = part[:-6]\n",
    "    if ele=='a':\n",
    "        file_emotion.append('angry')\n",
    "    elif ele=='d':\n",
    "        file_emotion.append('disgust')\n",
    "    elif ele=='f':\n",
    "        file_emotion.append('fear')\n",
    "    elif ele=='h':\n",
    "        file_emotion.append('happy')\n",
    "    elif ele=='n':\n",
    "        file_emotion.append('neutral')\n",
    "    elif ele=='sa':\n",
    "        file_emotion.append('sad')\n",
    "    else:\n",
    "        file_emotion.append('surprise')\n",
    "        \n",
    "\n",
    "emotion_df = pd.DataFrame(file_emotion, columns=['Emotions'])\n",
    "\n",
    "\n",
    "path_df = pd.DataFrame(file_path, columns=['Path'])\n",
    "Savee_df = pd.concat([emotion_df, path_df], axis=1)\n",
    "Savee_df.head()\n",
    "print(Savee_df[\"Path\"].values[1])"
   ]
  },
  {
   "cell_type": "code",
   "execution_count": 9,
   "id": "6eb9bcea",
   "metadata": {},
   "outputs": [
    {
     "data": {
      "text/html": [
       "<div>\n",
       "<style scoped>\n",
       "    .dataframe tbody tr th:only-of-type {\n",
       "        vertical-align: middle;\n",
       "    }\n",
       "\n",
       "    .dataframe tbody tr th {\n",
       "        vertical-align: top;\n",
       "    }\n",
       "\n",
       "    .dataframe thead th {\n",
       "        text-align: right;\n",
       "    }\n",
       "</style>\n",
       "<table border=\"1\" class=\"dataframe\">\n",
       "  <thead>\n",
       "    <tr style=\"text-align: right;\">\n",
       "      <th></th>\n",
       "      <th>Emotions</th>\n",
       "      <th>Path</th>\n",
       "    </tr>\n",
       "  </thead>\n",
       "  <tbody>\n",
       "    <tr>\n",
       "      <th>0</th>\n",
       "      <td>neutral</td>\n",
       "      <td>/mnt/c/Users/rubom/Desktop/Emotions DataSets/R...</td>\n",
       "    </tr>\n",
       "    <tr>\n",
       "      <th>1</th>\n",
       "      <td>neutral</td>\n",
       "      <td>/mnt/c/Users/rubom/Desktop/Emotions DataSets/R...</td>\n",
       "    </tr>\n",
       "    <tr>\n",
       "      <th>2</th>\n",
       "      <td>neutral</td>\n",
       "      <td>/mnt/c/Users/rubom/Desktop/Emotions DataSets/R...</td>\n",
       "    </tr>\n",
       "    <tr>\n",
       "      <th>3</th>\n",
       "      <td>neutral</td>\n",
       "      <td>/mnt/c/Users/rubom/Desktop/Emotions DataSets/R...</td>\n",
       "    </tr>\n",
       "    <tr>\n",
       "      <th>4</th>\n",
       "      <td>calm</td>\n",
       "      <td>/mnt/c/Users/rubom/Desktop/Emotions DataSets/R...</td>\n",
       "    </tr>\n",
       "    <tr>\n",
       "      <th>...</th>\n",
       "      <td>...</td>\n",
       "      <td>...</td>\n",
       "    </tr>\n",
       "    <tr>\n",
       "      <th>475</th>\n",
       "      <td>surprise</td>\n",
       "      <td>/mnt/c/Users/rubom/Desktop/Emotions DataSets/S...</td>\n",
       "    </tr>\n",
       "    <tr>\n",
       "      <th>476</th>\n",
       "      <td>surprise</td>\n",
       "      <td>/mnt/c/Users/rubom/Desktop/Emotions DataSets/S...</td>\n",
       "    </tr>\n",
       "    <tr>\n",
       "      <th>477</th>\n",
       "      <td>surprise</td>\n",
       "      <td>/mnt/c/Users/rubom/Desktop/Emotions DataSets/S...</td>\n",
       "    </tr>\n",
       "    <tr>\n",
       "      <th>478</th>\n",
       "      <td>surprise</td>\n",
       "      <td>/mnt/c/Users/rubom/Desktop/Emotions DataSets/S...</td>\n",
       "    </tr>\n",
       "    <tr>\n",
       "      <th>479</th>\n",
       "      <td>surprise</td>\n",
       "      <td>/mnt/c/Users/rubom/Desktop/Emotions DataSets/S...</td>\n",
       "    </tr>\n",
       "  </tbody>\n",
       "</table>\n",
       "<p>12162 rows × 2 columns</p>\n",
       "</div>"
      ],
      "text/plain": [
       "     Emotions                                               Path\n",
       "0     neutral  /mnt/c/Users/rubom/Desktop/Emotions DataSets/R...\n",
       "1     neutral  /mnt/c/Users/rubom/Desktop/Emotions DataSets/R...\n",
       "2     neutral  /mnt/c/Users/rubom/Desktop/Emotions DataSets/R...\n",
       "3     neutral  /mnt/c/Users/rubom/Desktop/Emotions DataSets/R...\n",
       "4        calm  /mnt/c/Users/rubom/Desktop/Emotions DataSets/R...\n",
       "..        ...                                                ...\n",
       "475  surprise  /mnt/c/Users/rubom/Desktop/Emotions DataSets/S...\n",
       "476  surprise  /mnt/c/Users/rubom/Desktop/Emotions DataSets/S...\n",
       "477  surprise  /mnt/c/Users/rubom/Desktop/Emotions DataSets/S...\n",
       "478  surprise  /mnt/c/Users/rubom/Desktop/Emotions DataSets/S...\n",
       "479  surprise  /mnt/c/Users/rubom/Desktop/Emotions DataSets/S...\n",
       "\n",
       "[12162 rows x 2 columns]"
      ]
     },
     "execution_count": 9,
     "metadata": {},
     "output_type": "execute_result"
    }
   ],
   "source": [
    "data_path = pd.concat([Ravdess_df, Crema_df, Tess_df, Savee_df], axis = 0)\n",
    "data_path.to_csv(\"data_path.csv\",index=False)\n",
    "data_path"
   ]
  },
  {
   "cell_type": "code",
   "execution_count": 10,
   "id": "f09c6586",
   "metadata": {},
   "outputs": [
    {
     "data": {
      "image/png": "[encoded data removed]",
      "text/plain": [
       "<Figure size 640x480 with 1 Axes>"
      ]
     },
     "metadata": {},
     "output_type": "display_data"
    }
   ],
   "source": [
    "plt.title('Count of Emotions', size=16)\n",
    "sns.countplot(data_path.Emotions)\n",
    "plt.ylabel('Count', size=12)\n",
    "plt.xlabel('Emotions', size=12)\n",
    "sns.despine(top=True, right=True, left=False, bottom=False)\n",
    "plt.show()"
   ]
  },
  {
   "cell_type": "code",
   "execution_count": null,
   "id": "8b86bb06",
   "metadata": {},
   "outputs": [
    {
     "name": "stderr",
     "output_type": "stream",
     "text": [
      "Using a slow image processor as `use_fast` is unset and a slow processor was saved with this model. `use_fast=True` will be the default behavior in v4.52, even if the model was saved with a slow processor. This will result in minor differences in outputs. You'll still be able to use a slow processor with `use_fast=False`.\n",
      "Some weights of ASTForAudioClassification were not initialized from the model checkpoint at MIT/ast-finetuned-speech-commands-v2 and are newly initialized because the shapes did not match:\n",
      "- classifier.dense.bias: found shape torch.Size([35]) in the checkpoint and torch.Size([8]) in the model instantiated\n",
      "- classifier.dense.weight: found shape torch.Size([35, 768]) in the checkpoint and torch.Size([8, 768]) in the model instantiated\n",
      "You should probably TRAIN this model on a down-stream task to be able to use it for predictions and inference.\n"
     ]
    },
    {
     "name": "stdout",
     "output_type": "stream",
     "text": [
      "\n",
      "Epoch 1/75\n",
      "\n",
      "Epoch 1/75\n"
     ]
    },
    {
     "name": "stderr",
     "output_type": "stream",
     "text": [
      "                                                                                                                        "
     ]
    },
    {
     "name": "stdout",
     "output_type": "stream",
     "text": [
      "Epoch 1, Loss: 1.9332, Accuracy: 25.29%\n"
     ]
    },
    {
     "name": "stderr",
     "output_type": "stream",
     "text": [
      "/home/raf/miniconda3/envs/tf/lib/python3.11/site-packages/sklearn/metrics/_classification.py:1565: UndefinedMetricWarning: Precision is ill-defined and being set to 0.0 in labels with no predicted samples. Use `zero_division` parameter to control this behavior.\n",
      "  _warn_prf(average, modifier, f\"{metric.capitalize()} is\", len(result))\n",
      "/home/raf/miniconda3/envs/tf/lib/python3.11/site-packages/sklearn/metrics/_classification.py:1565: UndefinedMetricWarning: Precision is ill-defined and being set to 0.0 in labels with no predicted samples. Use `zero_division` parameter to control this behavior.\n",
      "  _warn_prf(average, modifier, f\"{metric.capitalize()} is\", len(result))\n",
      "/home/raf/miniconda3/envs/tf/lib/python3.11/site-packages/sklearn/metrics/_classification.py:1565: UndefinedMetricWarning: Precision is ill-defined and being set to 0.0 in labels with no predicted samples. Use `zero_division` parameter to control this behavior.\n",
      "  _warn_prf(average, modifier, f\"{metric.capitalize()} is\", len(result))\n",
      "/home/raf/miniconda3/envs/tf/lib/python3.11/site-packages/sklearn/metrics/_classification.py:1565: UndefinedMetricWarning: Precision is ill-defined and being set to 0.0 in labels with no predicted samples. Use `zero_division` parameter to control this behavior.\n",
      "  _warn_prf(average, modifier, f\"{metric.capitalize()} is\", len(result))\n",
      "/home/raf/miniconda3/envs/tf/lib/python3.11/site-packages/sklearn/metrics/_classification.py:1565: UndefinedMetricWarning: Precision is ill-defined and being set to 0.0 in labels with no predicted samples. Use `zero_division` parameter to control this behavior.\n",
      "  _warn_prf(average, modifier, f\"{metric.capitalize()} is\", len(result))\n",
      "/home/raf/miniconda3/envs/tf/lib/python3.11/site-packages/sklearn/metrics/_classification.py:1565: UndefinedMetricWarning: Precision is ill-defined and being set to 0.0 in labels with no predicted samples. Use `zero_division` parameter to control this behavior.\n",
      "  _warn_prf(average, modifier, f\"{metric.capitalize()} is\", len(result))\n"
     ]
    },
    {
     "name": "stdout",
     "output_type": "stream",
     "text": [
      "Validation Loss: 1.8863, Accuracy: 34.00%\n",
      "F1 Score: 0.2926\n",
      "              precision    recall  f1-score   support\n",
      "\n",
      "       angry     0.3999    0.5410    0.4599      2695\n",
      "        calm     0.1740    0.9323    0.2933       266\n",
      "     disgust     0.0000    0.0000    0.0000      2695\n",
      "        fear     0.3572    0.3280    0.3420      2695\n",
      "       happy     0.2494    0.0827    0.1243      2695\n",
      "     neutral     0.3332    0.5424    0.4128      2380\n",
      "         sad     0.3655    0.3737    0.3695      2695\n",
      "    surprise     0.3468    0.7473    0.4737       910\n",
      "\n",
      "    accuracy                         0.3400     17031\n",
      "   macro avg     0.2782    0.4434    0.3094     17031\n",
      "weighted avg     0.2849    0.3400    0.2926     17031\n",
      "\n",
      "✅ Checkpoint saved at epoch 1\n",
      "\n",
      "Epoch 2/75\n",
      "\n",
      "Epoch 2/75\n"
     ]
    },
    {
     "name": "stderr",
     "output_type": "stream",
     "text": [
      "                                                                                                                        "
     ]
    },
    {
     "name": "stdout",
     "output_type": "stream",
     "text": [
      "Epoch 2, Loss: 1.8257, Accuracy: 36.23%\n"
     ]
    },
    {
     "name": "stderr",
     "output_type": "stream",
     "text": [
      "                                                                                                                        "
     ]
    },
    {
     "name": "stdout",
     "output_type": "stream",
     "text": [
      "Validation Loss: 1.8311, Accuracy: 39.41%\n",
      "F1 Score: 0.3578\n",
      "              precision    recall  f1-score   support\n",
      "\n",
      "       angry     0.4866    0.6011    0.5378      2695\n",
      "        calm     0.2002    0.9699    0.3318       266\n",
      "     disgust     0.6768    0.0412    0.0776      2695\n",
      "        fear     0.5073    0.2583    0.3423      2695\n",
      "       happy     0.3271    0.2212    0.2639      2695\n",
      "     neutral     0.3626    0.5542    0.4384      2380\n",
      "         sad     0.3909    0.5098    0.4425      2695\n",
      "    surprise     0.3880    0.8110    0.5249       910\n",
      "\n",
      "    accuracy                         0.3941     17031\n",
      "   macro avg     0.4174    0.4958    0.3699     17031\n",
      "weighted avg     0.4525    0.3941    0.3578     17031\n",
      "\n",
      "✅ Checkpoint saved at epoch 2\n",
      "\n",
      "Epoch 3/75\n",
      "\n",
      "Epoch 3/75\n"
     ]
    },
    {
     "name": "stderr",
     "output_type": "stream",
     "text": [
      "                                                                                                                        "
     ]
    },
    {
     "name": "stdout",
     "output_type": "stream",
     "text": [
      "Epoch 3, Loss: 1.7857, Accuracy: 41.20%\n"
     ]
    },
    {
     "name": "stderr",
     "output_type": "stream",
     "text": [
      "                                                                                                                        "
     ]
    },
    {
     "name": "stdout",
     "output_type": "stream",
     "text": [
      "Validation Loss: 1.7999, Accuracy: 43.36%\n",
      "F1 Score: 0.4036\n",
      "              precision    recall  f1-score   support\n",
      "\n",
      "       angry     0.4904    0.7109    0.5804      2695\n",
      "        calm     0.2013    0.9662    0.3331       266\n",
      "     disgust     0.7367    0.1340    0.2267      2695\n",
      "        fear     0.4729    0.3039    0.3700      2695\n",
      "       happy     0.3726    0.1844    0.2467      2695\n",
      "     neutral     0.4270    0.5508    0.4811      2380\n",
      "         sad     0.4211    0.5547    0.4788      2695\n",
      "    surprise     0.4357    0.8000    0.5641       910\n",
      "\n",
      "    accuracy                         0.4336     17031\n",
      "   macro avg     0.4447    0.5256    0.4101     17031\n",
      "weighted avg     0.4807    0.4336    0.4036     17031\n",
      "\n",
      "✅ Checkpoint saved at epoch 3\n",
      "\n",
      "Epoch 4/75\n",
      "\n",
      "Epoch 4/75\n"
     ]
    },
    {
     "name": "stderr",
     "output_type": "stream",
     "text": [
      "                                                                                                                        "
     ]
    },
    {
     "name": "stdout",
     "output_type": "stream",
     "text": [
      "Epoch 4, Loss: 1.7622, Accuracy: 43.58%\n"
     ]
    },
    {
     "name": "stderr",
     "output_type": "stream",
     "text": [
      "                                                                                                                        "
     ]
    },
    {
     "name": "stdout",
     "output_type": "stream",
     "text": [
      "Validation Loss: 1.7807, Accuracy: 44.98%\n",
      "F1 Score: 0.4291\n",
      "              precision    recall  f1-score   support\n",
      "\n",
      "       angry     0.5621    0.6516    0.6035      2695\n",
      "        calm     0.2334    0.9662    0.3760       266\n",
      "     disgust     0.7108    0.1532    0.2521      2695\n",
      "        fear     0.5530    0.2827    0.3742      2695\n",
      "       happy     0.3547    0.3143    0.3333      2695\n",
      "     neutral     0.4335    0.5571    0.4876      2380\n",
      "         sad     0.4438    0.5748    0.5009      2695\n",
      "    surprise     0.3932    0.8253    0.5326       910\n",
      "\n",
      "    accuracy                         0.4498     17031\n",
      "   macro avg     0.4606    0.5407    0.4325     17031\n",
      "weighted avg     0.5005    0.4498    0.4291     17031\n",
      "\n",
      "✅ Checkpoint saved at epoch 4\n",
      "\n",
      "Epoch 5/75\n",
      "\n",
      "Epoch 5/75\n"
     ]
    },
    {
     "name": "stderr",
     "output_type": "stream",
     "text": [
      "                                                                                                                        "
     ]
    },
    {
     "name": "stdout",
     "output_type": "stream",
     "text": [
      "Epoch 5, Loss: 1.7439, Accuracy: 45.46%\n"
     ]
    },
    {
     "name": "stderr",
     "output_type": "stream",
     "text": [
      "                                                                                                                        "
     ]
    },
    {
     "name": "stdout",
     "output_type": "stream",
     "text": [
      "Validation Loss: 1.7680, Accuracy: 46.38%\n",
      "F1 Score: 0.4474\n",
      "              precision    recall  f1-score   support\n",
      "\n",
      "       angry     0.5814    0.6571    0.6170      2695\n",
      "        calm     0.2180    0.9737    0.3563       266\n",
      "     disgust     0.5926    0.2126    0.3129      2695\n",
      "        fear     0.5625    0.2720    0.3667      2695\n",
      "       happy     0.3887    0.3150    0.3480      2695\n",
      "     neutral     0.4407    0.5992    0.5078      2380\n",
      "         sad     0.4588    0.5718    0.5091      2695\n",
      "    surprise     0.4273    0.8209    0.5621       910\n",
      "\n",
      "    accuracy                         0.4638     17031\n",
      "   macro avg     0.4588    0.5528    0.4475     17031\n",
      "weighted avg     0.4967    0.4638    0.4474     17031\n",
      "\n",
      "✅ Checkpoint saved at epoch 5\n",
      "\n",
      "Epoch 6/75\n",
      "🔓 Unfreezing AST backbone...\n",
      "\n",
      "Epoch 6/75\n"
     ]
    },
    {
     "name": "stderr",
     "output_type": "stream",
     "text": [
      "                                                                                                                        "
     ]
    },
    {
     "name": "stdout",
     "output_type": "stream",
     "text": [
      "Epoch 6, Loss: 1.6533, Accuracy: 55.57%\n"
     ]
    },
    {
     "name": "stderr",
     "output_type": "stream",
     "text": [
      "                                                                                                                        "
     ]
    },
    {
     "name": "stdout",
     "output_type": "stream",
     "text": [
      "Validation Loss: 1.6780, Accuracy: 55.49%\n",
      "F1 Score: 0.5468\n",
      "              precision    recall  f1-score   support\n",
      "\n",
      "       angry     0.6940    0.7592    0.7251      2695\n",
      "        calm     0.1965    1.0000    0.3284       266\n",
      "     disgust     0.7634    0.2909    0.4213      2695\n",
      "        fear     0.6922    0.4263    0.5277      2695\n",
      "       happy     0.5709    0.3614    0.4426      2695\n",
      "     neutral     0.4614    0.8101    0.5879      2380\n",
      "         sad     0.5855    0.5562    0.5705      2695\n",
      "    surprise     0.5034    0.8835    0.6414       910\n",
      "\n",
      "    accuracy                         0.5549     17031\n",
      "   macro avg     0.5584    0.6360    0.5306     17031\n",
      "weighted avg     0.6176    0.5549    0.5468     17031\n",
      "\n",
      "✅ Checkpoint saved at epoch 6\n",
      "\n",
      "Epoch 7/75\n",
      "\n",
      "Epoch 7/75\n"
     ]
    },
    {
     "name": "stderr",
     "output_type": "stream",
     "text": [
      "                                                                                                                        "
     ]
    },
    {
     "name": "stdout",
     "output_type": "stream",
     "text": [
      "Epoch 7, Loss: 1.5558, Accuracy: 66.97%\n"
     ]
    },
    {
     "name": "stderr",
     "output_type": "stream",
     "text": [
      "                                                                                                                        "
     ]
    },
    {
     "name": "stdout",
     "output_type": "stream",
     "text": [
      "Validation Loss: 1.6375, Accuracy: 60.55%\n",
      "F1 Score: 0.6071\n",
      "              precision    recall  f1-score   support\n",
      "\n",
      "       angry     0.7708    0.7039    0.7358      2695\n",
      "        calm     0.2530    0.9474    0.3994       266\n",
      "     disgust     0.6245    0.4393    0.5158      2695\n",
      "        fear     0.5872    0.5161    0.5494      2695\n",
      "       happy     0.5562    0.6078    0.5809      2695\n",
      "     neutral     0.6619    0.6458    0.6538      2380\n",
      "         sad     0.6043    0.5989    0.6016      2695\n",
      "    surprise     0.5828    0.8780    0.7006       910\n",
      "\n",
      "    accuracy                         0.6055     17031\n",
      "   macro avg     0.5801    0.6672    0.5921     17031\n",
      "weighted avg     0.6249    0.6055    0.6071     17031\n",
      "\n",
      "✅ Checkpoint saved at epoch 7\n",
      "\n",
      "Epoch 8/75\n",
      "\n",
      "Epoch 8/75\n"
     ]
    },
    {
     "name": "stderr",
     "output_type": "stream",
     "text": [
      "                                                                                                                        "
     ]
    },
    {
     "name": "stdout",
     "output_type": "stream",
     "text": [
      "Epoch 8, Loss: 1.5000, Accuracy: 73.66%\n"
     ]
    },
    {
     "name": "stderr",
     "output_type": "stream",
     "text": [
      "                                                                                                                        "
     ]
    },
    {
     "name": "stdout",
     "output_type": "stream",
     "text": [
      "Validation Loss: 1.6331, Accuracy: 61.57%\n",
      "F1 Score: 0.6146\n",
      "              precision    recall  f1-score   support\n",
      "\n",
      "       angry     0.7216    0.7673    0.7438      2695\n",
      "        calm     0.3242    0.9323    0.4811       266\n",
      "     disgust     0.6047    0.4813    0.5360      2695\n",
      "        fear     0.5997    0.4998    0.5452      2695\n",
      "       happy     0.6164    0.5599    0.5868      2695\n",
      "     neutral     0.5789    0.7029    0.6349      2380\n",
      "         sad     0.5848    0.6104    0.5973      2695\n",
      "    surprise     0.8147    0.7681    0.7907       910\n",
      "\n",
      "    accuracy                         0.6157     17031\n",
      "   macro avg     0.6056    0.6653    0.6145     17031\n",
      "weighted avg     0.6243    0.6157    0.6146     17031\n",
      "\n",
      "✅ Checkpoint saved at epoch 8\n",
      "\n",
      "Epoch 9/75\n",
      "\n",
      "Epoch 9/75\n"
     ]
    },
    {
     "name": "stderr",
     "output_type": "stream",
     "text": [
      "                                                                                                                        "
     ]
    },
    {
     "name": "stdout",
     "output_type": "stream",
     "text": [
      "Epoch 9, Loss: 1.4657, Accuracy: 77.66%\n"
     ]
    },
    {
     "name": "stderr",
     "output_type": "stream",
     "text": [
      "                                                                                                                        "
     ]
    },
    {
     "name": "stdout",
     "output_type": "stream",
     "text": [
      "Validation Loss: 1.6351, Accuracy: 61.16%\n",
      "F1 Score: 0.6077\n",
      "              precision    recall  f1-score   support\n",
      "\n",
      "       angry     0.7236    0.7596    0.7411      2695\n",
      "        calm     0.3279    0.9023    0.4810       266\n",
      "     disgust     0.5267    0.5570    0.5414      2695\n",
      "        fear     0.7100    0.3889    0.5025      2695\n",
      "       happy     0.6429    0.5317    0.5820      2695\n",
      "     neutral     0.5949    0.7084    0.6467      2380\n",
      "         sad     0.5670    0.6278    0.5959      2695\n",
      "    surprise     0.7010    0.8451    0.7663       910\n",
      "\n",
      "    accuracy                         0.6116     17031\n",
      "   macro avg     0.5992    0.6651    0.6071     17031\n",
      "weighted avg     0.6274    0.6116    0.6077     17031\n",
      "\n",
      "✅ Checkpoint saved at epoch 9\n",
      "\n",
      "Epoch 10/75\n",
      "\n",
      "Epoch 10/75\n"
     ]
    },
    {
     "name": "stderr",
     "output_type": "stream",
     "text": [
      "                                                                                                                        "
     ]
    },
    {
     "name": "stdout",
     "output_type": "stream",
     "text": [
      "Epoch 10, Loss: 1.4437, Accuracy: 80.28%\n"
     ]
    },
    {
     "name": "stderr",
     "output_type": "stream",
     "text": [
      "                                                                                                                        "
     ]
    },
    {
     "name": "stdout",
     "output_type": "stream",
     "text": [
      "Validation Loss: 1.6273, Accuracy: 61.68%\n",
      "F1 Score: 0.6149\n",
      "              precision    recall  f1-score   support\n",
      "\n",
      "       angry     0.7108    0.7751    0.7416      2695\n",
      "        calm     0.2979    0.9286    0.4511       266\n",
      "     disgust     0.6394    0.4705    0.5421      2695\n",
      "        fear     0.6311    0.4939    0.5541      2695\n",
      "       happy     0.5837    0.5744    0.5790      2695\n",
      "     neutral     0.6204    0.6887    0.6527      2380\n",
      "         sad     0.5871    0.6015    0.5942      2695\n",
      "    surprise     0.6819    0.8363    0.7512       910\n",
      "\n",
      "    accuracy                         0.6168     17031\n",
      "   macro avg     0.5940    0.6711    0.6083     17031\n",
      "weighted avg     0.6266    0.6168    0.6149     17031\n",
      "\n",
      "✅ Checkpoint saved at epoch 10\n",
      "\n",
      "Epoch 11/75\n",
      "\n",
      "Epoch 11/75\n"
     ]
    },
    {
     "name": "stderr",
     "output_type": "stream",
     "text": [
      "                                                                                                                        "
     ]
    },
    {
     "name": "stdout",
     "output_type": "stream",
     "text": [
      "Epoch 11, Loss: 1.4285, Accuracy: 81.98%\n"
     ]
    },
    {
     "name": "stderr",
     "output_type": "stream",
     "text": [
      "                                                                                                                        "
     ]
    },
    {
     "name": "stdout",
     "output_type": "stream",
     "text": [
      "Validation Loss: 1.6340, Accuracy: 61.36%\n",
      "F1 Score: 0.6107\n",
      "              precision    recall  f1-score   support\n",
      "\n",
      "       angry     0.6693    0.7944    0.7265      2695\n",
      "        calm     0.2999    0.9323    0.4538       266\n",
      "     disgust     0.6655    0.4304    0.5228      2695\n",
      "        fear     0.5546    0.5803    0.5672      2695\n",
      "       happy     0.6456    0.5069    0.5679      2695\n",
      "     neutral     0.6316    0.6786    0.6542      2380\n",
      "         sad     0.5920    0.5981    0.5951      2695\n",
      "    surprise     0.7122    0.8187    0.7618       910\n",
      "\n",
      "    accuracy                         0.6136     17031\n",
      "   macro avg     0.5963    0.6675    0.6061     17031\n",
      "weighted avg     0.6258    0.6136    0.6107     17031\n",
      "\n",
      "✅ Checkpoint saved at epoch 11\n",
      "\n",
      "Epoch 12/75\n",
      "\n",
      "Epoch 12/75\n"
     ]
    },
    {
     "name": "stderr",
     "output_type": "stream",
     "text": [
      "                                                                                                                        "
     ]
    },
    {
     "name": "stdout",
     "output_type": "stream",
     "text": [
      "Epoch 12, Loss: 1.4166, Accuracy: 83.46%\n"
     ]
    },
    {
     "name": "stderr",
     "output_type": "stream",
     "text": [
      "                                                                                                                        "
     ]
    },
    {
     "name": "stdout",
     "output_type": "stream",
     "text": [
      "Validation Loss: 1.6374, Accuracy: 62.12%\n",
      "F1 Score: 0.6170\n",
      "              precision    recall  f1-score   support\n",
      "\n",
      "       angry     0.6067    0.8442    0.7060      2695\n",
      "        calm     0.3545    0.6917    0.4688       266\n",
      "     disgust     0.6232    0.5106    0.5613      2695\n",
      "        fear     0.5905    0.5510    0.5701      2695\n",
      "       happy     0.6493    0.5091    0.5707      2695\n",
      "     neutral     0.6241    0.6773    0.6496      2380\n",
      "         sad     0.6521    0.5696    0.6080      2695\n",
      "    surprise     0.7482    0.8132    0.7794       910\n",
      "\n",
      "    accuracy                         0.6212     17031\n",
      "   macro avg     0.6061    0.6458    0.6142     17031\n",
      "weighted avg     0.6267    0.6212    0.6170     17031\n",
      "\n",
      "✅ Checkpoint saved at epoch 12\n",
      "\n",
      "Epoch 13/75\n",
      "\n",
      "Epoch 13/75\n"
     ]
    },
    {
     "name": "stderr",
     "output_type": "stream",
     "text": [
      "                                                                                                                        "
     ]
    },
    {
     "name": "stdout",
     "output_type": "stream",
     "text": [
      "Epoch 13, Loss: 1.4058, Accuracy: 84.75%\n"
     ]
    },
    {
     "name": "stderr",
     "output_type": "stream",
     "text": [
      "                                                                                                                        "
     ]
    },
    {
     "name": "stdout",
     "output_type": "stream",
     "text": [
      "Validation Loss: 1.6250, Accuracy: 62.93%\n",
      "F1 Score: 0.6278\n",
      "              precision    recall  f1-score   support\n",
      "\n",
      "       angry     0.7280    0.7447    0.7362      2695\n",
      "        calm     0.3779    0.8609    0.5252       266\n",
      "     disgust     0.6231    0.5043    0.5574      2695\n",
      "        fear     0.6331    0.4731    0.5415      2695\n",
      "       happy     0.6001    0.6204    0.6101      2695\n",
      "     neutral     0.6625    0.6748    0.6686      2380\n",
      "         sad     0.5477    0.6876    0.6097      2695\n",
      "    surprise     0.8136    0.7868    0.8000       910\n",
      "\n",
      "    accuracy                         0.6293     17031\n",
      "   macro avg     0.6233    0.6691    0.6311     17031\n",
      "weighted avg     0.6376    0.6293    0.6278     17031\n",
      "\n",
      "✅ Checkpoint saved at epoch 13\n",
      "\n",
      "Epoch 14/75\n",
      "\n",
      "Epoch 14/75\n"
     ]
    },
    {
     "name": "stderr",
     "output_type": "stream",
     "text": [
      "                                                                                                                        "
     ]
    },
    {
     "name": "stdout",
     "output_type": "stream",
     "text": [
      "Epoch 14, Loss: 1.3970, Accuracy: 85.68%\n"
     ]
    },
    {
     "name": "stderr",
     "output_type": "stream",
     "text": [
      "                                                                                                                        "
     ]
    },
    {
     "name": "stdout",
     "output_type": "stream",
     "text": [
      "Validation Loss: 1.6365, Accuracy: 61.04%\n",
      "F1 Score: 0.6077\n",
      "              precision    recall  f1-score   support\n",
      "\n",
      "       angry     0.6960    0.7536    0.7237      2695\n",
      "        calm     0.3792    0.8910    0.5320       266\n",
      "     disgust     0.6275    0.4712    0.5382      2695\n",
      "        fear     0.5745    0.4865    0.5268      2695\n",
      "       happy     0.5452    0.6241    0.5820      2695\n",
      "     neutral     0.7079    0.5887    0.6428      2380\n",
      "         sad     0.5973    0.6263    0.6115      2695\n",
      "    surprise     0.6006    0.8527    0.7048       910\n",
      "\n",
      "    accuracy                         0.6104     17031\n",
      "   macro avg     0.5910    0.6618    0.6077     17031\n",
      "weighted avg     0.6181    0.6104    0.6077     17031\n",
      "\n",
      "✅ Checkpoint saved at epoch 14\n",
      "\n",
      "Epoch 15/75\n",
      "\n",
      "Epoch 15/75\n"
     ]
    },
    {
     "name": "stderr",
     "output_type": "stream",
     "text": [
      "                                                                                                                        "
     ]
    },
    {
     "name": "stdout",
     "output_type": "stream",
     "text": [
      "Epoch 15, Loss: 1.3899, Accuracy: 86.56%\n"
     ]
    },
    {
     "name": "stderr",
     "output_type": "stream",
     "text": [
      "                                                                                                                        "
     ]
    },
    {
     "name": "stdout",
     "output_type": "stream",
     "text": [
      "Validation Loss: 1.6220, Accuracy: 62.57%\n",
      "F1 Score: 0.6246\n",
      "              precision    recall  f1-score   support\n",
      "\n",
      "       angry     0.7402    0.7243    0.7322      2695\n",
      "        calm     0.3522    0.8872    0.5043       266\n",
      "     disgust     0.6053    0.5087    0.5528      2695\n",
      "        fear     0.6075    0.5380    0.5706      2695\n",
      "       happy     0.6030    0.6030    0.6030      2695\n",
      "     neutral     0.6078    0.7143    0.6568      2380\n",
      "         sad     0.6218    0.5759    0.5980      2695\n",
      "    surprise     0.7103    0.8462    0.7723       910\n",
      "\n",
      "    accuracy                         0.6257     17031\n",
      "   macro avg     0.6060    0.6747    0.6237     17031\n",
      "weighted avg     0.6312    0.6257    0.6246     17031\n",
      "\n",
      "✅ Checkpoint saved at epoch 15\n",
      "\n",
      "Epoch 16/75\n",
      "\n",
      "Epoch 16/75\n"
     ]
    },
    {
     "name": "stderr",
     "output_type": "stream",
     "text": [
      "                                                                                                                        "
     ]
    },
    {
     "name": "stdout",
     "output_type": "stream",
     "text": [
      "Epoch 16, Loss: 1.3856, Accuracy: 87.14%\n"
     ]
    },
    {
     "name": "stderr",
     "output_type": "stream",
     "text": [
      "                                                                                                                        "
     ]
    },
    {
     "name": "stdout",
     "output_type": "stream",
     "text": [
      "Validation Loss: 1.6266, Accuracy: 62.49%\n",
      "F1 Score: 0.6218\n",
      "              precision    recall  f1-score   support\n",
      "\n",
      "       angry     0.6434    0.8215    0.7216      2695\n",
      "        calm     0.3710    0.7782    0.5024       266\n",
      "     disgust     0.5869    0.4935    0.5362      2695\n",
      "        fear     0.5705    0.5662    0.5683      2695\n",
      "       happy     0.6232    0.5481    0.5832      2695\n",
      "     neutral     0.6824    0.6634    0.6728      2380\n",
      "         sad     0.6468    0.5763    0.6095      2695\n",
      "    surprise     0.7525    0.8319    0.7902       910\n",
      "\n",
      "    accuracy                         0.6249     17031\n",
      "   macro avg     0.6096    0.6599    0.6230     17031\n",
      "weighted avg     0.6273    0.6249    0.6218     17031\n",
      "\n",
      "✅ Checkpoint saved at epoch 16\n",
      "\n",
      "Epoch 17/75\n",
      "\n",
      "Epoch 17/75\n"
     ]
    },
    {
     "name": "stderr",
     "output_type": "stream",
     "text": [
      "                                                                                                                        "
     ]
    },
    {
     "name": "stdout",
     "output_type": "stream",
     "text": [
      "Epoch 17, Loss: 1.3785, Accuracy: 87.95%\n"
     ]
    },
    {
     "name": "stderr",
     "output_type": "stream",
     "text": [
      "                                                                                                                        "
     ]
    },
    {
     "name": "stdout",
     "output_type": "stream",
     "text": [
      "Validation Loss: 1.6269, Accuracy: 62.57%\n",
      "F1 Score: 0.6224\n",
      "              precision    recall  f1-score   support\n",
      "\n",
      "       angry     0.6956    0.7529    0.7231      2695\n",
      "        calm     0.3651    0.7932    0.5000       266\n",
      "     disgust     0.6548    0.4490    0.5327      2695\n",
      "        fear     0.6051    0.5299    0.5650      2695\n",
      "       happy     0.6099    0.5848    0.5971      2695\n",
      "     neutral     0.5943    0.7336    0.6566      2380\n",
      "         sad     0.6001    0.6304    0.6149      2695\n",
      "    surprise     0.7764    0.8319    0.8032       910\n",
      "\n",
      "    accuracy                         0.6257     17031\n",
      "   macro avg     0.6127    0.6632    0.6241     17031\n",
      "weighted avg     0.6311    0.6257    0.6224     17031\n",
      "\n",
      "✅ Checkpoint saved at epoch 17\n",
      "\n",
      "Epoch 18/75\n",
      "\n",
      "Epoch 18/75\n"
     ]
    },
    {
     "name": "stderr",
     "output_type": "stream",
     "text": [
      "                                                                                                                        "
     ]
    },
    {
     "name": "stdout",
     "output_type": "stream",
     "text": [
      "Epoch 18, Loss: 1.3749, Accuracy: 88.36%\n"
     ]
    },
    {
     "name": "stderr",
     "output_type": "stream",
     "text": [
      "                                                                                                                        "
     ]
    },
    {
     "name": "stdout",
     "output_type": "stream",
     "text": [
      "Validation Loss: 1.6262, Accuracy: 62.94%\n",
      "F1 Score: 0.6269\n",
      "              precision    recall  f1-score   support\n",
      "\n",
      "       angry     0.6847    0.7766    0.7277      2695\n",
      "        calm     0.3654    0.7707    0.4958       266\n",
      "     disgust     0.6252    0.4902    0.5495      2695\n",
      "        fear     0.5952    0.5325    0.5621      2695\n",
      "       happy     0.6491    0.5655    0.6044      2695\n",
      "     neutral     0.6478    0.6668    0.6571      2380\n",
      "         sad     0.5837    0.6705    0.6241      2695\n",
      "    surprise     0.7508    0.8209    0.7843       910\n",
      "\n",
      "    accuracy                         0.6294     17031\n",
      "   macro avg     0.6127    0.6617    0.6256     17031\n",
      "weighted avg     0.6329    0.6294    0.6269     17031\n",
      "\n",
      "✅ Checkpoint saved at epoch 18\n",
      "\n",
      "Epoch 19/75\n",
      "\n",
      "Epoch 19/75\n"
     ]
    },
    {
     "name": "stderr",
     "output_type": "stream",
     "text": [
      "                                                                                                                        "
     ]
    },
    {
     "name": "stdout",
     "output_type": "stream",
     "text": [
      "Epoch 19, Loss: 1.3710, Accuracy: 88.84%\n"
     ]
    },
    {
     "name": "stderr",
     "output_type": "stream",
     "text": [
      "                                                                                                                        "
     ]
    },
    {
     "name": "stdout",
     "output_type": "stream",
     "text": [
      "Validation Loss: 1.6311, Accuracy: 62.15%\n",
      "F1 Score: 0.6192\n",
      "              precision    recall  f1-score   support\n",
      "\n",
      "       angry     0.7261    0.7525    0.7391      2695\n",
      "        calm     0.3792    0.8496    0.5244       266\n",
      "     disgust     0.6305    0.4490    0.5245      2695\n",
      "        fear     0.6037    0.4816    0.5358      2695\n",
      "       happy     0.5851    0.6505    0.6161      2695\n",
      "     neutral     0.7030    0.6265    0.6625      2380\n",
      "         sad     0.5267    0.6813    0.5941      2695\n",
      "    surprise     0.7649    0.8154    0.7894       910\n",
      "\n",
      "    accuracy                         0.6215     17031\n",
      "   macro avg     0.6149    0.6633    0.6232     17031\n",
      "weighted avg     0.6312    0.6215    0.6192     17031\n",
      "\n",
      "✅ Checkpoint saved at epoch 19\n",
      "\n",
      "Epoch 20/75\n",
      "\n",
      "Epoch 20/75\n"
     ]
    },
    {
     "name": "stderr",
     "output_type": "stream",
     "text": [
      "                                                                                                                        "
     ]
    },
    {
     "name": "stdout",
     "output_type": "stream",
     "text": [
      "Epoch 20, Loss: 1.3689, Accuracy: 89.07%\n"
     ]
    },
    {
     "name": "stderr",
     "output_type": "stream",
     "text": [
      "                                                                                                                        "
     ]
    },
    {
     "name": "stdout",
     "output_type": "stream",
     "text": [
      "Validation Loss: 1.6267, Accuracy: 62.67%\n",
      "F1 Score: 0.6256\n",
      "              precision    recall  f1-score   support\n",
      "\n",
      "       angry     0.7304    0.7570    0.7434      2695\n",
      "        calm     0.3886    0.8459    0.5325       266\n",
      "     disgust     0.6275    0.4712    0.5382      2695\n",
      "        fear     0.5947    0.5429    0.5676      2695\n",
      "       happy     0.6019    0.6007    0.6013      2695\n",
      "     neutral     0.7085    0.6076    0.6542      2380\n",
      "         sad     0.5394    0.6987    0.6088      2695\n",
      "    surprise     0.7629    0.7989    0.7805       910\n",
      "\n",
      "    accuracy                         0.6267     17031\n",
      "   macro avg     0.6192    0.6654    0.6283     17031\n",
      "weighted avg     0.6354    0.6267    0.6256     17031\n",
      "\n",
      "✅ Checkpoint saved at epoch 20\n",
      "\n",
      "Epoch 21/75\n",
      "\n",
      "Epoch 21/75\n"
     ]
    },
    {
     "name": "stderr",
     "output_type": "stream",
     "text": [
      "                                                                                                                        "
     ]
    },
    {
     "name": "stdout",
     "output_type": "stream",
     "text": [
      "Epoch 21, Loss: 1.3630, Accuracy: 89.72%\n"
     ]
    },
    {
     "name": "stderr",
     "output_type": "stream",
     "text": [
      "                                                                                                                        "
     ]
    },
    {
     "name": "stdout",
     "output_type": "stream",
     "text": [
      "Validation Loss: 1.6308, Accuracy: 62.53%\n",
      "F1 Score: 0.6231\n",
      "              precision    recall  f1-score   support\n",
      "\n",
      "       angry     0.7708    0.7076    0.7379      2695\n",
      "        calm     0.4518    0.7218    0.5557       266\n",
      "     disgust     0.6723    0.4263    0.5218      2695\n",
      "        fear     0.5489    0.5688    0.5587      2695\n",
      "       happy     0.5659    0.6512    0.6056      2695\n",
      "     neutral     0.6334    0.6933    0.6620      2380\n",
      "         sad     0.5904    0.6364    0.6125      2695\n",
      "    surprise     0.7341    0.8220    0.7755       910\n",
      "\n",
      "    accuracy                         0.6253     17031\n",
      "   macro avg     0.6209    0.6534    0.6287     17031\n",
      "weighted avg     0.6330    0.6253    0.6231     17031\n",
      "\n",
      "✅ Checkpoint saved at epoch 21\n",
      "\n",
      "Epoch 22/75\n",
      "\n",
      "Epoch 22/75\n"
     ]
    },
    {
     "name": "stderr",
     "output_type": "stream",
     "text": [
      "                                                                                                                        "
     ]
    },
    {
     "name": "stdout",
     "output_type": "stream",
     "text": [
      "Epoch 22, Loss: 1.3625, Accuracy: 89.90%\n"
     ]
    },
    {
     "name": "stderr",
     "output_type": "stream",
     "text": [
      "Validating:  16%|███████▋                                         | 83/533 [00:46<03:53,  1.93it/s, acc=63.3, loss=1.89]"
     ]
    }
   ],
   "source": [
    "\n",
    "\n",
    "\n",
    "\n",
    "def volume_perturbation(data, low=0.5, high=1.5):\n",
    "    factor = np.random.uniform(low, high)\n",
    "    return data * factor\n",
    "\n",
    "def clipping_distortion(data, clip_percent=0.02):\n",
    "    threshold = clip_percent * np.max(np.abs(data))\n",
    "    data = np.clip(data, -threshold, threshold)\n",
    "    return data\n",
    "\n",
    "def pink_noise(data):\n",
    "    # Voss-McCartney algorithm-based pink noise\n",
    "    uneven = data.shape[0] % 2\n",
    "    X = np.random.randn(data.shape[0]//2 + 1 + uneven) + 1j * np.random.randn(data.shape[0]//2 + 1 + uneven)\n",
    "    S = np.sqrt(np.arange(len(X)) + 1.)  # Spectral shaping\n",
    "    y = (np.fft.irfft(X / S)).real\n",
    "    if uneven:\n",
    "        y = y[:-1]\n",
    "    y = y / np.max(np.abs(y))  # Normalize\n",
    "    return data + 0.005 * y\n",
    "\n",
    "def salt_and_pepper_audio(data, amount=0.005):\n",
    "    noisy_data = data.copy()\n",
    "    num_samples = int(amount * data.shape[0])\n",
    "    indices = np.random.randint(0, data.shape[0], num_samples)\n",
    "    for i in indices:\n",
    "        noisy_data[i] = np.random.choice([np.min(data), np.max(data)])\n",
    "    return noisy_data\n",
    "\n",
    "def add_noise(data):\n",
    "    noise_amp = 0.005 * np.random.uniform() * np.amax(data)\n",
    "    return data + noise_amp * np.random.normal(size=data.shape)\n",
    "\n",
    "def stretch(data, rate=0.8):\n",
    "    return librosa.effects.time_stretch(y=data, rate=rate)\n",
    "\n",
    "def pitch(data, sr, steps=4):\n",
    "    return librosa.effects.pitch_shift(y=data, sr=sr, n_steps=steps)\n",
    "\n",
    "\n",
    "# ========== Dataset ==========\n",
    "class EmotionAudioDataset(Dataset):\n",
    "    def __init__(self, dataframe, processor_name=\"MIT/ast-finetuned-speech-commands-v2\", train=True):\n",
    "        df = dataframe.copy().dropna().reset_index(drop=True)\n",
    "\n",
    "        # Encode emotions to integers\n",
    "        self.label_map = {emotion: i for i, emotion in enumerate(sorted(df[\"Emotions\"].unique()))}\n",
    "        self.df = df.copy()\n",
    "        self.df[\"label\"] = self.df[\"Emotions\"].map(self.label_map)\n",
    "        \n",
    "        # Stratified split\n",
    "        train_df, val_df = train_test_split(self.df, test_size=0.2, stratify=self.df[\"label\"], random_state=42)\n",
    "\n",
    "        \n",
    "        self.df = train_df if train else val_df\n",
    "             # Step 2: Augment training set\n",
    "        augmented_rows_train = []\n",
    "        for _, row in self.df.iterrows():\n",
    "            for aug_type in [\"original\", \"noise\", \"stretch_pitch\", \"salt_pepper\", \"pink\", \"clip\", \"volume\"]:\n",
    "                augmented_rows_train.append({\n",
    "                    \"Path\": row[\"Path\"],\n",
    "                    \"Emotions\": row[\"Emotions\"],\n",
    "                    \"label\": row[\"label\"],  # <-- ЭТО ВАЖНО\n",
    "                    \"AugType\": aug_type\n",
    "                })\n",
    "        self.df = pd.DataFrame(augmented_rows_train)\n",
    "\n",
    "        self.processor = AutoProcessor.from_pretrained(processor_name)\n",
    "\n",
    "    def __len__(self):\n",
    "        return len(self.df)\n",
    "\n",
    "    def __getitem__(self, idx):\n",
    "        row = self.df.iloc[idx]\n",
    "        file_path = row[\"Path\"]\n",
    "        label = row[\"label\"]\n",
    "        aug_type = row[\"AugType\"]\n",
    "\n",
    "        try:\n",
    "            waveform, sample_rate = torchaudio.load(file_path)\n",
    "        except Exception as e:\n",
    "            print(f\"❌ Error loading {file_path}: {e}\")\n",
    "            return torch.zeros((128, 128)), torch.tensor(0)\n",
    "        \n",
    "        if waveform.shape[0] > 1:\n",
    "            waveform = waveform.mean(dim=0)\n",
    "        waveform = waveform.squeeze().numpy()\n",
    "\n",
    "        # Apply augmentation\n",
    "        if aug_type == \"noise\":\n",
    "            waveform = add_noise(waveform)\n",
    "        elif aug_type == \"stretch_pitch\":\n",
    "            waveform = stretch(waveform)\n",
    "            waveform = pitch(waveform, sample_rate)\n",
    "        elif aug_type == \"salt_pepper\":\n",
    "            waveform = salt_and_pepper_audio(waveform)\n",
    "        elif aug_type == \"pink\":\n",
    "            waveform = pink_noise(waveform)\n",
    "        elif aug_type == \"clip\":\n",
    "            waveform = clipping_distortion(waveform)\n",
    "        elif aug_type == \"volume\":\n",
    "            waveform = volume_perturbation(waveform)\n",
    "\n",
    "        # Resample if needed\n",
    "        if sample_rate != 16000:\n",
    "            waveform = librosa.resample(waveform, orig_sr=sample_rate, target_sr=16000)\n",
    "            sample_rate = 16000\n",
    "\n",
    "        # Back to tensor\n",
    "        waveform = torch.tensor(waveform)\n",
    "\n",
    "        try:\n",
    "            processed = self.processor(\n",
    "                waveform,\n",
    "                sampling_rate=16000,\n",
    "                return_tensors=\"pt\",\n",
    "                padding=\"max_length\",\n",
    "                max_length=16000\n",
    "            )\n",
    "            input_values = processed.input_values.squeeze(0)\n",
    "        except Exception as e:\n",
    "            print(f\"❌ Error processing {file_path}: {e}\")\n",
    "            return torch.zeros((128, 128)), torch.tensor(0)\n",
    "\n",
    "        return input_values, torch.tensor(label)\n",
    "\n",
    "# ========== Classifier ==========\n",
    "class CustomClassifier(nn.Module):\n",
    "    def __init__(self, input_dim=768, num_classes=8):\n",
    "        super(CustomClassifier, self).__init__()\n",
    "        self.fc1 = nn.Linear(input_dim, 512)\n",
    "        self.fc2 = nn.Linear(512, 128)\n",
    "        self.fc3 = nn.Linear(128, num_classes)\n",
    "        self.relu = nn.ReLU()\n",
    "        self.softmax = nn.Softmax(dim=1)\n",
    "\n",
    "    def forward(self, x):\n",
    "        x = self.fc1(x)\n",
    "        x = self.relu(x)\n",
    "        x = self.fc2(x)\n",
    "        x = self.relu(x)\n",
    "        x = self.fc3(x)\n",
    "        return self.softmax(x)\n",
    "\n",
    "\n",
    "class ComplexClassifierHead(nn.Module):\n",
    "    def __init__(self, input_dim=768, num_classes=8):\n",
    "        super().__init__()\n",
    "        self.norm = nn.LayerNorm(input_dim)\n",
    "\n",
    "        # Block 1\n",
    "        self.fc1 = nn.Linear(input_dim, 512)\n",
    "        self.act1 = nn.GELU()\n",
    "        self.drop1 = nn.Dropout(0.3)\n",
    "\n",
    "        # Block 2\n",
    "        self.fc2 = nn.Linear(512, 512)\n",
    "        self.act2 = nn.GELU()\n",
    "        self.drop2 = nn.Dropout(0.3)\n",
    "\n",
    "          # Block 3\n",
    "        self.fc3 = nn.Linear(512,512)\n",
    "        self.act3 = nn.GELU()\n",
    "        self.drop3 = nn.Dropout(0.3)\n",
    "\n",
    "        # Block 4\n",
    "        self.fc4 = nn.Linear(512,128)\n",
    "        self.act4 = nn.GELU()\n",
    "        self.drop4 = nn.Dropout(0.3)\n",
    "\n",
    "        # Block 5\n",
    "        self.fc5 = nn.Linear(128, 128)\n",
    "        self.act5 = nn.GELU()\n",
    "        self.drop5 = nn.Dropout(0.3)\n",
    "\n",
    "        # Block 6\n",
    "        self.fc6 = nn.Linear(128, 128)\n",
    "        self.act6 = nn.GELU()\n",
    "        self.drop6 = nn.Dropout(0.3)\n",
    "\n",
    "        # Output layer\n",
    "        self.output = nn.Linear(128, num_classes)\n",
    "        self.softmax = nn.Softmax(dim=1)\n",
    "\n",
    "    def forward(self, x):\n",
    "        # Input normalization\n",
    "        x = self.norm(x)\n",
    "        \n",
    "        # Block 1\n",
    "        x = self.drop1(self.act1(self.fc1(x)))\n",
    "        res1 = x\n",
    "\n",
    "        # Block 2\n",
    "        x = self.drop2(self.act2(self.fc2(x)))\n",
    "\n",
    "        # Block 3\n",
    "        x = self.drop3(self.act3(self.fc3(x)))\n",
    "        x = x + res1\n",
    "\n",
    "        # Block 4\n",
    "        x = self.drop4(self.act4(self.fc4(x)))\n",
    "        res2 = x\n",
    "\n",
    "        x = self.drop5(self.act5(self.fc5(x)))\n",
    "\n",
    "        x = self.drop6(self.act6(self.fc6(x)))\n",
    "        x = x + res2\n",
    "\n",
    "        # Output\n",
    "        return self.softmax(self.output(x))\n",
    "\n",
    "def save_checkpoint(model, optimizer, epoch, path=\"checkpoints/checkpoint.pth\"):\n",
    "    os.makedirs(os.path.dirname(path), exist_ok=True)\n",
    "    torch.save({\n",
    "        'epoch': epoch,\n",
    "        'model_state_dict': model.state_dict(),\n",
    "        'optimizer_state_dict': optimizer.state_dict(),\n",
    "    }, path)\n",
    "    print(f\"\\u2705 Checkpoint saved at epoch {epoch}\")\n",
    "\n",
    "# ========== Training ==========\n",
    "def train_model(model, train_loader, val_loader, label_map, num_epochs=10, learning_rate=2e-5, checkpoint_path=None):\n",
    "    device = torch.device(\"cuda\" if torch.cuda.is_available() else \"cpu\")\n",
    "    model.to(device)\n",
    "\n",
    "    optimizer = optim.AdamW(model.classifier.parameters(), lr=learning_rate)\n",
    "\n",
    "    train_labels = train_loader.dataset.df[\"label\"]\n",
    "    class_weights = compute_class_weight(\n",
    "        class_weight='balanced',\n",
    "        classes=np.unique(train_labels),\n",
    "        y=train_labels\n",
    "    )\n",
    "    class_weights_tensor = torch.tensor(class_weights, dtype=torch.float).to(device)\n",
    "\n",
    "    criterion = nn.CrossEntropyLoss(weight=class_weights_tensor)\n",
    "\n",
    "    train_losses, val_losses = [], []\n",
    "    train_accs, val_accs = [], []\n",
    "\n",
    "    # log for saving full metrics\n",
    "    metrics_log = []\n",
    "\n",
    "    start_epoch = 0\n",
    "\n",
    "    ast_unfrozen = False\n",
    "    if checkpoint_path and os.path.exists(checkpoint_path):\n",
    "        start_epoch = load_checkpoint(model, optimizer, checkpoint_path)\n",
    "\n",
    "    for epoch in range(start_epoch, num_epochs):\n",
    "\n",
    "        print(f\"\\nEpoch {epoch+1}/{num_epochs}\")\n",
    "\n",
    "        # === Unfreeze AST backbone after epoch 15 ===\n",
    "        if epoch == 5 and not ast_unfrozen:\n",
    "            print(\"🔓 Unfreezing AST backbone...\")\n",
    "            for param in model.parameters():\n",
    "                param.requires_grad = True\n",
    "            optimizer = optim.AdamW(model.parameters(), lr=learning_rate)\n",
    "            ast_unfrozen = True\n",
    "\n",
    "        model.train()\n",
    "        total_loss = 0\n",
    "        correct = 0\n",
    "        total = 0\n",
    "\n",
    "        print(f\"\\nEpoch {epoch+1}/{num_epochs}\")\n",
    "        train_bar = tqdm(train_loader, desc=\"Training\", leave=False)\n",
    "\n",
    "        for inputs, labels in train_bar:\n",
    "            inputs, labels = inputs.to(device), labels.to(device)\n",
    "            optimizer.zero_grad()\n",
    "\n",
    "            outputs = model(inputs).logits\n",
    "            loss = criterion(outputs, labels)\n",
    "            loss.backward()\n",
    "            optimizer.step()\n",
    "\n",
    "            total_loss += loss.item()\n",
    "            _, predicted = outputs.max(1)\n",
    "            correct += predicted.eq(labels).sum().item()\n",
    "            total += labels.size(0)\n",
    "\n",
    "            train_bar.set_postfix(loss=loss.item(), acc=100 * correct / total)\n",
    "\n",
    "        train_loss = total_loss / len(train_loader)\n",
    "        train_acc = 100 * correct / total\n",
    "        train_losses.append(train_loss)\n",
    "        train_accs.append(train_acc)\n",
    "        print(f\"Epoch {epoch+1}, Loss: {train_loss:.4f}, Accuracy: {train_acc:.2f}%\")\n",
    "\n",
    "        # Validation\n",
    "        model.eval()\n",
    "        val_loss = 0\n",
    "        correct = 0\n",
    "        total = 0\n",
    "        all_labels = []\n",
    "        all_preds = []\n",
    "\n",
    "        val_bar = tqdm(val_loader, desc=\"Validating\", leave=False)\n",
    "        with torch.no_grad():\n",
    "            for inputs, labels in val_bar:\n",
    "                inputs, labels = inputs.to(device), labels.to(device)\n",
    "                outputs = model(input_values=inputs).logits\n",
    "\n",
    "                loss = criterion(outputs, labels)\n",
    "                val_loss += loss.item()\n",
    "                _, predicted = outputs.max(1)\n",
    "                correct += predicted.eq(labels).sum().item()\n",
    "                total += labels.size(0)\n",
    "\n",
    "                all_labels.extend(labels.cpu().numpy())\n",
    "                all_preds.extend(predicted.cpu().numpy())\n",
    "\n",
    "                val_bar.set_postfix(loss=loss.item(), acc=100 * correct / total)\n",
    "\n",
    "        val_loss /= len(val_loader)\n",
    "        val_acc = 100 * correct / total\n",
    "        val_losses.append(val_loss)\n",
    "        val_accs.append(val_acc)\n",
    "        f1_weighted = f1_score(all_labels, all_preds, average='weighted')\n",
    "        f1_macro = f1_score(all_labels, all_preds, average='macro')\n",
    "\n",
    "        # Get full classification report\n",
    "        target_names = list(label_map.keys())\n",
    "        report = classification_report(\n",
    "            all_labels, all_preds,\n",
    "            target_names=target_names,\n",
    "            digits=4,\n",
    "            output_dict=True\n",
    "        )\n",
    "\n",
    "        print(f\"Validation Loss: {val_loss:.4f}, Accuracy: {val_acc:.2f}%\")\n",
    "        print(f\"F1 Score: {f1_weighted:.4f}\")\n",
    "        print(classification_report(all_labels, all_preds, target_names=target_names, digits=4))\n",
    "\n",
    "        save_checkpoint(model, optimizer, epoch + 1, path=f\"checkpoints/epoch_{epoch+1}.pth\")\n",
    "\n",
    "        # Flatten the classification report\n",
    "        flat_report = {\n",
    "            f\"{label}_{metric}\": round(value, 4)\n",
    "            for label, scores in report.items()\n",
    "            for metric, value in (scores.items() if isinstance(scores, dict) else [(\"value\", scores)])\n",
    "        }\n",
    "\n",
    "        # Save all metrics\n",
    "        epoch_metrics = {\n",
    "            \"epoch\": epoch + 1,\n",
    "            \"timestamp\": datetime.now().isoformat(),\n",
    "            \"train_loss\": round(train_loss, 4),\n",
    "            \"train_accuracy\": round(train_acc, 2),\n",
    "            \"val_loss\": round(val_loss, 4),\n",
    "            \"val_accuracy\": round(val_acc, 2),\n",
    "            \"f1_weighted\": round(f1_weighted, 4),\n",
    "            \"f1_macro\": round(f1_macro, 4),\n",
    "            \"report\": flat_report\n",
    "        }\n",
    "\n",
    "        metrics_log.append(epoch_metrics)\n",
    "        with open(\"metrics_log.json\", \"w\") as f:\n",
    "            json.dump(metrics_log, f, indent=2)\n",
    "\n",
    "    print(\"\\u2705 Training complete!\")\n",
    "\n",
    "    # Plot and save curves\n",
    "    total_epochs_ran = range(start_epoch + 1, start_epoch + len(train_losses) + 1)\n",
    "\n",
    "    plt.figure(figsize=(12, 5))\n",
    "    plt.subplot(1, 2, 1)\n",
    "    plt.plot(total_epochs_ran, train_losses, label='Train Loss')\n",
    "    plt.plot(total_epochs_ran, val_losses, label='Val Loss')\n",
    "    plt.xlabel(\"Epochs\")\n",
    "    plt.ylabel(\"Loss\")\n",
    "    plt.legend()\n",
    "    plt.title(\"Loss Curve\")\n",
    "\n",
    "    plt.subplot(1, 2, 2)\n",
    "    plt.plot(total_epochs_ran, train_accs, label='Train Acc')\n",
    "    plt.plot(total_epochs_ran, val_accs, label='Val Acc')\n",
    "    plt.xlabel(\"Epochs\")\n",
    "    plt.ylabel(\"Accuracy (%)\")\n",
    "    plt.legend()\n",
    "    plt.title(\"Accuracy Curve\")\n",
    "\n",
    "    plt.tight_layout()\n",
    "    plt.savefig(\"training_curves.png\")\n",
    "    plt.show()\n",
    "\n",
    "\n",
    "def load_checkpoint(model, optimizer, path):\n",
    "    checkpoint = torch.load(path)\n",
    "    model.load_state_dict(checkpoint['model_state_dict'])\n",
    "    optimizer.load_state_dict(checkpoint['optimizer_state_dict'])\n",
    "    print(f\"\\u2705 Loaded checkpoint from epoch {checkpoint['epoch']}\")\n",
    "    return checkpoint['epoch']\n",
    "\n",
    "# ========== Main ==========\n",
    "if __name__ == \"__main__\":\n",
    "\n",
    "\n",
    "\n",
    "    train_dataset = EmotionAudioDataset(data_path, train=True)\n",
    "    val_dataset = EmotionAudioDataset(data_path, train=False)\n",
    "\n",
    "\n",
    "    \n",
    "\n",
    "    train_loader = DataLoader(train_dataset, batch_size=32, shuffle=True)\n",
    "    val_loader = DataLoader(val_dataset, batch_size=32, shuffle=False)\n",
    "\n",
    "    model = ASTForAudioClassification.from_pretrained(\n",
    "        \"MIT/ast-finetuned-speech-commands-v2\",\n",
    "        num_labels=len(train_dataset.label_map),\n",
    "        ignore_mismatched_sizes=True\n",
    "    )\n",
    "\n",
    "    for param in model.parameters():\n",
    "        param.requires_grad = False\n",
    "\n",
    "    # custom_clf = CustomClassifier(model.config.hidden_size, len(train_dataset.label_map))\n",
    "    # model.classifier = custom_clf\n",
    "\n",
    "    custom_clf = ComplexClassifierHead(model.config.hidden_size, len(train_dataset.label_map))\n",
    "    model.classifier = custom_clf\n",
    "\n",
    "    for param in model.classifier.parameters():\n",
    "        param.requires_grad = True\n",
    "\n",
    "    train_model(\n",
    "    model,\n",
    "    train_loader,\n",
    "    val_loader,\n",
    "    label_map=train_dataset.label_map,\n",
    "    num_epochs=75, \n",
    "    checkpoint_path=\"checkpoints/epoch_52.pth\"\n",
    "    )\n",
    "\n",
    "    torch.save(model.state_dict(), \"final_model_emotions_with_augmentation_state_dict.pth\")\n",
    "    torch.save(model, \"final_model_emotions_with_augmentation.pth\")"
   ]
  },
  {
   "cell_type": "code",
   "execution_count": null,
   "id": "82d85aa5",
   "metadata": {},
   "outputs": [],
   "source": [
    "\n",
    "\n",
    "\n",
    "\n",
    "\n",
    "\n",
    "\n",
    "\n",
    "\n"
   ]
  },
  {
   "cell_type": "code",
   "execution_count": null,
   "id": "bbcafddc-4a46-4be5-9eab-84284eab0026",
   "metadata": {},
   "outputs": [],
   "source": []
  },
  {
   "cell_type": "code",
   "execution_count": null,
   "id": "3301ff12-7501-4ca2-9310-6cd9eecddab6",
   "metadata": {},
   "outputs": [],
   "source": []
  }
 ],
 "metadata": {
  "kernelspec": {
   "display_name": "Python 3 (ipykernel)",
   "language": "python",
   "name": "python3"
  },
  "language_info": {
   "codemirror_mode": {
    "name": "ipython",
    "version": 3
   },
   "file_extension": ".py",
   "mimetype": "text/x-python",
   "name": "python",
   "nbconvert_exporter": "python",
   "pygments_lexer": "ipython3",
   "version": "3.11.11"
  }
 },
 "nbformat": 4,
 "nbformat_minor": 5
}
